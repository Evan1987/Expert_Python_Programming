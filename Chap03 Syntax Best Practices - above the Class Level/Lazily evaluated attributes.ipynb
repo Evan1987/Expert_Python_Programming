{
 "cells": [
  {
   "cell_type": "code",
   "execution_count": 17,
   "metadata": {},
   "outputs": [],
   "source": [
    "class InitOnAccess:\n",
    "    def __init__(self, kclass, *args, **kwargs):\n",
    "        self.kclass = kclass\n",
    "        self.args = args\n",
    "        self.kwargs = kwargs\n",
    "        self._initialized = None\n",
    "    def __get__(self, instance, owner):\n",
    "        if self._initialized is None:\n",
    "            print(\"Initialized\")\n",
    "            self._initialized = self.kclass(*self.args, **self.kwargs)\n",
    "        else:\n",
    "            print(\"cached\")\n",
    "        return self._initialized"
   ]
  },
  {
   "cell_type": "code",
   "execution_count": 32,
   "metadata": {},
   "outputs": [],
   "source": [
    "class MyClass:\n",
    "    lazily_initialized = InitOnAccess(list, \"argument\")  # 不能放在init中"
   ]
  },
  {
   "cell_type": "code",
   "execution_count": 33,
   "metadata": {},
   "outputs": [],
   "source": [
    "m = MyClass()"
   ]
  },
  {
   "cell_type": "code",
   "execution_count": 34,
   "metadata": {},
   "outputs": [
    {
     "name": "stdout",
     "output_type": "stream",
     "text": [
      "Initialized\n"
     ]
    },
    {
     "data": {
      "text/plain": [
       "['a', 'r', 'g', 'u', 'm', 'e', 'n', 't']"
      ]
     },
     "execution_count": 34,
     "metadata": {},
     "output_type": "execute_result"
    }
   ],
   "source": [
    "m.lazily_initialized"
   ]
  },
  {
   "cell_type": "code",
   "execution_count": 35,
   "metadata": {},
   "outputs": [
    {
     "name": "stdout",
     "output_type": "stream",
     "text": [
      "cached\n"
     ]
    },
    {
     "data": {
      "text/plain": [
       "['a', 'r', 'g', 'u', 'm', 'e', 'n', 't']"
      ]
     },
     "execution_count": 35,
     "metadata": {},
     "output_type": "execute_result"
    }
   ],
   "source": [
    "m.lazily_initialized"
   ]
  },
  {
   "cell_type": "code",
   "execution_count": 37,
   "metadata": {},
   "outputs": [],
   "source": [
    "class lazy_property:  # 既是 descriptor 又是 decorator\n",
    "    def __init__(self, function):\n",
    "        self.fget = function\n",
    "    def __get__(self, instance, owner):  # instance 是实例，owner是所有者的类\n",
    "        value = self.fget(instance)  # 直接调用实例（ function(self))\n",
    "        setattr(instance, self.fget.__name__, value)  # 增加属性，类似property\n",
    "        return value"
   ]
  },
  {
   "cell_type": "code",
   "execution_count": 47,
   "metadata": {},
   "outputs": [],
   "source": [
    "class MyClass:\n",
    "    def __init__(self, radius):\n",
    "        self.radius = radius\n",
    "    @property  # 只起到了延迟加载作用\n",
    "    def area(self):\n",
    "        print(\"evaluate\")\n",
    "        return 3.14 * self.radius ** 2"
   ]
  },
  {
   "cell_type": "code",
   "execution_count": 51,
   "metadata": {},
   "outputs": [
    {
     "name": "stdout",
     "output_type": "stream",
     "text": [
      "evaluate\n",
      "evaluate\n",
      "evaluate\n",
      "evaluate\n",
      "evaluate\n"
     ]
    }
   ],
   "source": [
    "m = MyClass(10)\n",
    "for _ in range(5):\n",
    "    m.area  # will cal 5 times"
   ]
  },
  {
   "cell_type": "code",
   "execution_count": 52,
   "metadata": {},
   "outputs": [
    {
     "data": {
      "text/plain": [
       "{'radius': 10}"
      ]
     },
     "execution_count": 52,
     "metadata": {},
     "output_type": "execute_result"
    }
   ],
   "source": [
    "m.__dict__  # 属性栏里并没有area"
   ]
  },
  {
   "cell_type": "code",
   "execution_count": 53,
   "metadata": {},
   "outputs": [],
   "source": [
    "class MyClass:\n",
    "    def __init__(self, radius):\n",
    "        self.radius = radius\n",
    "    @lazy_property  # 只起到了延迟加载作用\n",
    "    def area(self):\n",
    "        print(\"evaluate\")\n",
    "        return 3.14 * self.radius ** 2"
   ]
  },
  {
   "cell_type": "code",
   "execution_count": 54,
   "metadata": {},
   "outputs": [
    {
     "name": "stdout",
     "output_type": "stream",
     "text": [
      "evaluate\n"
     ]
    }
   ],
   "source": [
    "m = MyClass(10)\n",
    "for _ in range(5):\n",
    "    m.area  # just call once"
   ]
  },
  {
   "cell_type": "code",
   "execution_count": 55,
   "metadata": {},
   "outputs": [
    {
     "data": {
      "text/plain": [
       "{'radius': 10, 'area': 314.0}"
      ]
     },
     "execution_count": 55,
     "metadata": {},
     "output_type": "execute_result"
    }
   ],
   "source": [
    "m.__dict__"
   ]
  }
 ],
 "metadata": {
  "kernelspec": {
   "display_name": "Python 3",
   "language": "python",
   "name": "python3"
  },
  "language_info": {
   "codemirror_mode": {
    "name": "ipython",
    "version": 3
   },
   "file_extension": ".py",
   "mimetype": "text/x-python",
   "name": "python",
   "nbconvert_exporter": "python",
   "pygments_lexer": "ipython3",
   "version": "3.6.8"
  }
 },
 "nbformat": 4,
 "nbformat_minor": 2
}
