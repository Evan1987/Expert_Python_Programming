{
 "cells": [
  {
   "cell_type": "code",
   "execution_count": 6,
   "metadata": {},
   "outputs": [],
   "source": [
    "class Mama:\n",
    "    def says(self):\n",
    "        print(\"do your home work\")\n",
    "class Sister(Mama):\n",
    "    def says(self):\n",
    "        #super(Sister, self).says()  # same as follows\n",
    "        super().says()\n",
    "        print(\"and clean your bedroom\")"
   ]
  },
  {
   "cell_type": "code",
   "execution_count": 7,
   "metadata": {},
   "outputs": [
    {
     "name": "stdout",
     "output_type": "stream",
     "text": [
      "do your home work\n",
      "and clean your bedroom\n"
     ]
    }
   ],
   "source": [
    "Sister().says()"
   ]
  },
  {
   "cell_type": "code",
   "execution_count": 19,
   "metadata": {},
   "outputs": [
    {
     "name": "stdout",
     "output_type": "stream",
     "text": [
      "do your home work\n"
     ]
    }
   ],
   "source": [
    "anita = Sister()\n",
    "super(anita.__class__, anita).says()"
   ]
  },
  {
   "cell_type": "code",
   "execution_count": 53,
   "metadata": {},
   "outputs": [],
   "source": [
    "class Pizza:\n",
    "    def __init__(self, toppings):\n",
    "        self.toppings = toppings\n",
    "    def __repr__(self):  # 定义对象的描述信息\n",
    "        return \"pizza with \" + \" and \".join(self.toppings)\n",
    "    @classmethod\n",
    "    def recommend(cls):\n",
    "        \"\"\"Recommend some pizza with arbitrary toppings\"\"\"\n",
    "        return cls([\"spam\", \"eggs\", \"ham\"])  # 返回一个类"
   ]
  },
  {
   "cell_type": "code",
   "execution_count": 46,
   "metadata": {},
   "outputs": [
    {
     "data": {
      "text/plain": [
       "pizza with spam and eggs"
      ]
     },
     "execution_count": 46,
     "metadata": {},
     "output_type": "execute_result"
    }
   ],
   "source": [
    "f = Pizza([\"spam\", \"eggs\"])\n",
    "f"
   ]
  },
  {
   "cell_type": "code",
   "execution_count": 47,
   "metadata": {},
   "outputs": [
    {
     "name": "stdout",
     "output_type": "stream",
     "text": [
      "pizza with spam and eggs\n"
     ]
    }
   ],
   "source": [
    "print(f)"
   ]
  },
  {
   "cell_type": "code",
   "execution_count": 61,
   "metadata": {},
   "outputs": [],
   "source": [
    "class VikingPizza(Pizza):\n",
    "    @classmethod\n",
    "    def recommend(cls):\n",
    "        \"\"\"Use same recommendation as super but add extra spam\"\"\"\n",
    "        recommendation = super().recommend()\n",
    "        recommendation.toppings += [\"spam\"] * 5\n",
    "        return recommendation  # 返回一个类        "
   ]
  },
  {
   "cell_type": "code",
   "execution_count": 66,
   "metadata": {},
   "outputs": [
    {
     "data": {
      "text/plain": [
       "pizza with spam and eggs and ham and spam and spam and spam and spam and spam"
      ]
     },
     "execution_count": 66,
     "metadata": {},
     "output_type": "execute_result"
    }
   ],
   "source": [
    "VikingPizza.recommend()"
   ]
  },
  {
   "cell_type": "code",
   "execution_count": 85,
   "metadata": {},
   "outputs": [],
   "source": [
    "class CommonBase1:\n",
    "    @classmethod\n",
    "    def method(cls):\n",
    "        print('CommonBase1')\n",
    "        \n",
    "class CommonBase2:\n",
    "    @classmethod\n",
    "    def method(cls):\n",
    "        print('CommonBase2')\n",
    "        \n",
    "class Base1(CommonBase1):\n",
    "    pass\n",
    "\n",
    "class Base2(CommonBase2):\n",
    "    @classmethod\n",
    "    def method(cls):\n",
    "        print('Base2')\n",
    "        \n",
    "class MyClass(Base1, Base2):\n",
    "    pass"
   ]
  },
  {
   "cell_type": "code",
   "execution_count": 86,
   "metadata": {},
   "outputs": [
    {
     "data": {
      "text/plain": [
       "[__main__.MyClass,\n",
       " __main__.Base1,\n",
       " __main__.CommonBase1,\n",
       " __main__.Base2,\n",
       " __main__.CommonBase2,\n",
       " object]"
      ]
     },
     "execution_count": 86,
     "metadata": {},
     "output_type": "execute_result"
    }
   ],
   "source": [
    "MyClass.mro()"
   ]
  },
  {
   "cell_type": "code",
   "execution_count": 87,
   "metadata": {},
   "outputs": [
    {
     "name": "stdout",
     "output_type": "stream",
     "text": [
      "CommonBase1\n"
     ]
    }
   ],
   "source": [
    "MyClass.method()"
   ]
  },
  {
   "cell_type": "markdown",
   "metadata": {},
   "source": [
    "## super pitfalls"
   ]
  },
  {
   "cell_type": "code",
   "execution_count": 123,
   "metadata": {},
   "outputs": [],
   "source": [
    "class Base:\n",
    "    def __init__(self):\n",
    "        print(\"Base\", end=\" \")\n",
    "\n",
    "class A(Base):\n",
    "    def __init__(self):\n",
    "        print(\"A\", end=\" \")\n",
    "        super().__init__()\n",
    "class B(Base):\n",
    "    def __init__(self):\n",
    "        print(\"B\", end=\" \")\n",
    "        super().__init__()\n",
    "class C(A, B):\n",
    "    def __init__(self):\n",
    "        print(\"C\", end=\" \")\n",
    "        \n",
    "        # will call B twice\n",
    "        A.__init__(self)  # self is C instance\n",
    "        B.__init__(self)\n",
    "        print(\"\\n\")\n",
    "        # wouldn't call B twice\n",
    "        super().__init__()  "
   ]
  },
  {
   "cell_type": "code",
   "execution_count": 112,
   "metadata": {},
   "outputs": [
    {
     "name": "stdout",
     "output_type": "stream",
     "text": [
      "MRO:  ['C', 'A', 'B', 'Base', 'object']\n"
     ]
    }
   ],
   "source": [
    "print(\"MRO: \", [x.__name__ for x in C.mro()])   # B is super than A"
   ]
  },
  {
   "cell_type": "code",
   "execution_count": 124,
   "metadata": {},
   "outputs": [
    {
     "name": "stdout",
     "output_type": "stream",
     "text": [
      "C A B Base B Base \n",
      "\n",
      "A B Base "
     ]
    },
    {
     "data": {
      "text/plain": [
       "<__main__.C at 0x22c84c37518>"
      ]
     },
     "execution_count": 124,
     "metadata": {},
     "output_type": "execute_result"
    }
   ],
   "source": [
    "C()  # called B twice"
   ]
  },
  {
   "cell_type": "markdown",
   "metadata": {},
   "source": [
    "### pitfalls: Heterogeneous arguments"
   ]
  },
  {
   "cell_type": "code",
   "execution_count": 117,
   "metadata": {},
   "outputs": [],
   "source": [
    "class CommonBase:\n",
    "    def __init__(self):\n",
    "        print(\"CommonBase\")\n",
    "        super().__init__()\n",
    "class Base1(CommonBase):\n",
    "    def __init__(self):\n",
    "        print(\"Base1\")\n",
    "        super().__init__()\n",
    "class Base2(CommonBase):  # init parameters are different with Base1\n",
    "    def __init__(self, arg):\n",
    "        print(\"Base2\")\n",
    "        super().__init__()\n",
    "class MyClass(Base1, Base2):\n",
    "    def __init__(self, arg):\n",
    "        print(\"my base\")\n",
    "        super().__init__(arg)"
   ]
  },
  {
   "cell_type": "code",
   "execution_count": 118,
   "metadata": {},
   "outputs": [
    {
     "name": "stdout",
     "output_type": "stream",
     "text": [
      "my base\n"
     ]
    },
    {
     "ename": "TypeError",
     "evalue": "__init__() takes 1 positional argument but 2 were given",
     "output_type": "error",
     "traceback": [
      "\u001b[1;31m---------------------------------------------------------------------------\u001b[0m",
      "\u001b[1;31mTypeError\u001b[0m                                 Traceback (most recent call last)",
      "\u001b[1;32m<ipython-input-118-364c621751c3>\u001b[0m in \u001b[0;36m<module>\u001b[1;34m()\u001b[0m\n\u001b[1;32m----> 1\u001b[1;33m \u001b[0mMyClass\u001b[0m\u001b[1;33m(\u001b[0m\u001b[1;36m10\u001b[0m\u001b[1;33m)\u001b[0m\u001b[1;33m\u001b[0m\u001b[0m\n\u001b[0m",
      "\u001b[1;32m<ipython-input-117-4711044ae116>\u001b[0m in \u001b[0;36m__init__\u001b[1;34m(self, arg)\u001b[0m\n\u001b[0;32m     14\u001b[0m     \u001b[1;32mdef\u001b[0m \u001b[0m__init__\u001b[0m\u001b[1;33m(\u001b[0m\u001b[0mself\u001b[0m\u001b[1;33m,\u001b[0m \u001b[0marg\u001b[0m\u001b[1;33m)\u001b[0m\u001b[1;33m:\u001b[0m\u001b[1;33m\u001b[0m\u001b[0m\n\u001b[0;32m     15\u001b[0m         \u001b[0mprint\u001b[0m\u001b[1;33m(\u001b[0m\u001b[1;34m\"my base\"\u001b[0m\u001b[1;33m)\u001b[0m\u001b[1;33m\u001b[0m\u001b[0m\n\u001b[1;32m---> 16\u001b[1;33m         \u001b[0msuper\u001b[0m\u001b[1;33m(\u001b[0m\u001b[1;33m)\u001b[0m\u001b[1;33m.\u001b[0m\u001b[0m__init__\u001b[0m\u001b[1;33m(\u001b[0m\u001b[0marg\u001b[0m\u001b[1;33m)\u001b[0m\u001b[1;33m\u001b[0m\u001b[0m\n\u001b[0m",
      "\u001b[1;31mTypeError\u001b[0m: __init__() takes 1 positional argument but 2 were given"
     ]
    }
   ],
   "source": [
    "MyClass(10)"
   ]
  }
 ],
 "metadata": {
  "kernelspec": {
   "display_name": "Python 3",
   "language": "python",
   "name": "python3"
  },
  "language_info": {
   "codemirror_mode": {
    "name": "ipython",
    "version": 3
   },
   "file_extension": ".py",
   "mimetype": "text/x-python",
   "name": "python",
   "nbconvert_exporter": "python",
   "pygments_lexer": "ipython3",
   "version": "3.6.5"
  }
 },
 "nbformat": 4,
 "nbformat_minor": 2
}
