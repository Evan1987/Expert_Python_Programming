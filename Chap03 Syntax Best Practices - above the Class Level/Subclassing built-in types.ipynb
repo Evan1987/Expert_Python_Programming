{
 "cells": [
  {
   "cell_type": "markdown",
   "metadata": {},
   "source": [
    "## Example 1 DistinctDict"
   ]
  },
  {
   "cell_type": "code",
   "execution_count": 1,
   "metadata": {},
   "outputs": [],
   "source": [
    "class DistinctError(ValueError):\n",
    "    \"\"\"Raised when duplicate value is added to a distinctdict\"\"\"\n",
    "\n",
    "class distinctdict(dict):\n",
    "    \"\"\"Dictionary that does not accept duplciate values.\"\"\"\n",
    "    def __setitem__(self, key, value):\n",
    "        if value in self.values():\n",
    "            if key in self and self[key] == value:\n",
    "                pass\n",
    "            else:\n",
    "                raise DistinctError(\"This value already exists for different key\")\n",
    "        super().__setitem__(key, value)"
   ]
  },
  {
   "cell_type": "code",
   "execution_count": 2,
   "metadata": {},
   "outputs": [
    {
     "ename": "DistinctError",
     "evalue": "This value already exists for different key",
     "output_type": "error",
     "traceback": [
      "\u001b[1;31m---------------------------------------------------------------------------\u001b[0m",
      "\u001b[1;31mDistinctError\u001b[0m                             Traceback (most recent call last)",
      "\u001b[1;32m<ipython-input-2-e889f27ed276>\u001b[0m in \u001b[0;36m<module>\u001b[1;34m()\u001b[0m\n\u001b[0;32m      1\u001b[0m \u001b[0md\u001b[0m \u001b[1;33m=\u001b[0m \u001b[0mdistinctdict\u001b[0m\u001b[1;33m(\u001b[0m\u001b[1;33m)\u001b[0m\u001b[1;33m\u001b[0m\u001b[0m\n\u001b[0;32m      2\u001b[0m \u001b[0md\u001b[0m\u001b[1;33m[\u001b[0m\u001b[1;34m\"a\"\u001b[0m\u001b[1;33m]\u001b[0m \u001b[1;33m=\u001b[0m \u001b[1;36m10\u001b[0m\u001b[1;33m\u001b[0m\u001b[0m\n\u001b[1;32m----> 3\u001b[1;33m \u001b[0md\u001b[0m\u001b[1;33m[\u001b[0m\u001b[1;34m\"b\"\u001b[0m\u001b[1;33m]\u001b[0m \u001b[1;33m=\u001b[0m \u001b[1;36m10\u001b[0m\u001b[1;33m\u001b[0m\u001b[0m\n\u001b[0m",
      "\u001b[1;32m<ipython-input-1-0ed30e7ce6c9>\u001b[0m in \u001b[0;36m__setitem__\u001b[1;34m(self, key, value)\u001b[0m\n\u001b[0;32m      9\u001b[0m                 \u001b[1;32mpass\u001b[0m\u001b[1;33m\u001b[0m\u001b[0m\n\u001b[0;32m     10\u001b[0m             \u001b[1;32melse\u001b[0m\u001b[1;33m:\u001b[0m\u001b[1;33m\u001b[0m\u001b[0m\n\u001b[1;32m---> 11\u001b[1;33m                 \u001b[1;32mraise\u001b[0m \u001b[0mDistinctError\u001b[0m\u001b[1;33m(\u001b[0m\u001b[1;34m\"This value already exists for different key\"\u001b[0m\u001b[1;33m)\u001b[0m\u001b[1;33m\u001b[0m\u001b[0m\n\u001b[0m\u001b[0;32m     12\u001b[0m         \u001b[0msuper\u001b[0m\u001b[1;33m(\u001b[0m\u001b[1;33m)\u001b[0m\u001b[1;33m.\u001b[0m\u001b[0m__setitem__\u001b[0m\u001b[1;33m(\u001b[0m\u001b[0mkey\u001b[0m\u001b[1;33m,\u001b[0m \u001b[0mvalue\u001b[0m\u001b[1;33m)\u001b[0m\u001b[1;33m\u001b[0m\u001b[0m\n",
      "\u001b[1;31mDistinctError\u001b[0m: This value already exists for different key"
     ]
    }
   ],
   "source": [
    "d = distinctdict()\n",
    "d[\"a\"] = 10\n",
    "d[\"b\"] = 10"
   ]
  },
  {
   "cell_type": "markdown",
   "metadata": {},
   "source": [
    "## Example 2 "
   ]
  },
  {
   "cell_type": "code",
   "execution_count": 4,
   "metadata": {},
   "outputs": [],
   "source": [
    "class Folder(list):\n",
    "    def __init__(self, name):\n",
    "        self.name = name\n",
    "    def dir(self, nesting=0):\n",
    "        offset = \" \" * nesting\n",
    "        print(\"%s%s/\" % (offset, self.name))\n",
    "        for element in self:\n",
    "            if hasattr(element, \"dir\"):\n",
    "                element.dir(nesting + 1)\n",
    "            else:\n",
    "                print(\"%s %s\" % (offset, element))"
   ]
  },
  {
   "cell_type": "code",
   "execution_count": 8,
   "metadata": {},
   "outputs": [
    {
     "name": "stdout",
     "output_type": "stream",
     "text": [
      "project/\n",
      " README.md\n"
     ]
    }
   ],
   "source": [
    "tree = Folder(\"project\")\n",
    "tree.append(\"README.md\")\n",
    "tree.dir()"
   ]
  },
  {
   "cell_type": "code",
   "execution_count": 9,
   "metadata": {},
   "outputs": [
    {
     "name": "stdout",
     "output_type": "stream",
     "text": [
      "project/\n",
      " README.md\n",
      " src/\n",
      "  scipt.py\n"
     ]
    }
   ],
   "source": [
    "src = Folder(\"src\")\n",
    "src.append(\"scipt.py\")\n",
    "tree.append(src)\n",
    "tree.dir()"
   ]
  },
  {
   "cell_type": "markdown",
   "metadata": {},
   "source": [
    "When you are about to create a new class that acts like a sequence or\n",
    "a mapping, think about its features and look over the existing built-in\n",
    "types. The collections module extends basic built-in types with many\n",
    "useful containers. You will end up using one of them most of the time."
   ]
  }
 ],
 "metadata": {
  "kernelspec": {
   "display_name": "Python 3",
   "language": "python",
   "name": "python3"
  },
  "language_info": {
   "codemirror_mode": {
    "name": "ipython",
    "version": 3
   },
   "file_extension": ".py",
   "mimetype": "text/x-python",
   "name": "python",
   "nbconvert_exporter": "python",
   "pygments_lexer": "ipython3",
   "version": "3.6.5"
  }
 },
 "nbformat": 4,
 "nbformat_minor": 2
}
