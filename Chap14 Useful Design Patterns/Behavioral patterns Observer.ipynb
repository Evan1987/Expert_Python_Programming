{
 "cells": [
  {
   "cell_type": "markdown",
   "metadata": {},
   "source": [
    "The `observer` pattern is used to notify a list of objects about a state change of the\n",
    "observed component.  \n",
    "  \n",
    "Observer allows adding features in an application in a pluggable way by de-coupling\n",
    "the new functionality from the existing code base. An event framework is a typical\n",
    "implementation of the observer pattern and is described in the fgure that follows.\n",
    "Every time an event occurs, all observers for this event are notifed with the subject\n",
    "that has triggered this event."
   ]
  },
  {
   "cell_type": "code",
   "execution_count": 3,
   "metadata": {},
   "outputs": [],
   "source": [
    "class Event:\n",
    "    _observers = []\n",
    "    \n",
    "    def __init__(self, subject):\n",
    "        self.subject = subject\n",
    "    \n",
    "    @classmethod\n",
    "    def register(cls, observer):\n",
    "        if observer not in cls._observers:\n",
    "            cls._observers.append(observer)\n",
    "    \n",
    "    @classmethod\n",
    "    def unregister(cls, observer):\n",
    "        try:\n",
    "            cls._observers.remove(observer)\n",
    "        except ValueError:\n",
    "            pass\n",
    "    \n",
    "    @classmethod\n",
    "    def notify(cls, subject):\n",
    "        event = cls(subject)\n",
    "        for observer in cls._observers:\n",
    "            observer(event)"
   ]
  },
  {
   "cell_type": "markdown",
   "metadata": {},
   "source": [
    "The idea is that observers register themselves using the `Event` class method and\n",
    "get notifed with `Event` instances that carry the subject that triggered them. Here\n",
    "is an example of the concrete `Event` subclass with some observers subscribed to its\n",
    "notifcations:"
   ]
  },
  {
   "cell_type": "code",
   "execution_count": 10,
   "metadata": {},
   "outputs": [],
   "source": [
    "class WriteEvent(Event):\n",
    "    def __repr__(self):\n",
    "        return \"WriteEvent\"\n",
    "    \n",
    "def log(event):\n",
    "    # {!r} 强制使用对象的 __repr__属性\n",
    "    print(\"{!r} was fired with subject '{}'\".format(event, event.subject))\n",
    "\n",
    "class AnotherObserver(object):\n",
    "    def __call__(self, event):\n",
    "        print(\"{!r} trigged {}'s action\".format(event, self.__class__.__name__))\n",
    "\n",
    "WriteEvent.register(log)\n",
    "WriteEvent.register(AnotherObserver())"
   ]
  },
  {
   "cell_type": "code",
   "execution_count": 11,
   "metadata": {},
   "outputs": [
    {
     "name": "stdout",
     "output_type": "stream",
     "text": [
      "WriteEvent was fired with subject 'something happened'\n",
      "WriteEvent trigged AnotherObserver's action\n"
     ]
    }
   ],
   "source": [
    "WriteEvent.notify(\"something happened\")"
   ]
  },
  {
   "cell_type": "markdown",
   "metadata": {},
   "source": [
    "This implementation is simple and serves only as illustrational purposes. To make it\n",
    "fully functional, it could be enhanced by:  \n",
    "• Allowing the developer to change the order or events  \n",
    "• Making the event object hold more information than just the subject  "
   ]
  }
 ],
 "metadata": {
  "kernelspec": {
   "display_name": "Python 3",
   "language": "python",
   "name": "python3"
  },
  "language_info": {
   "codemirror_mode": {
    "name": "ipython",
    "version": 3
   },
   "file_extension": ".py",
   "mimetype": "text/x-python",
   "name": "python",
   "nbconvert_exporter": "python",
   "pygments_lexer": "ipython3",
   "version": "3.6.5"
  }
 },
 "nbformat": 4,
 "nbformat_minor": 2
}
