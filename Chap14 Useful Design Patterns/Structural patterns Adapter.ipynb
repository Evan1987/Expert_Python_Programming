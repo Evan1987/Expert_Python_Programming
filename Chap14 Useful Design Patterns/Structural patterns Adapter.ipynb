{
 "cells": [
  {
   "cell_type": "markdown",
   "metadata": {},
   "source": [
    "## Adapter"
   ]
  },
  {
   "cell_type": "markdown",
   "metadata": {},
   "source": [
    "The `Adapter` pattern allows the interface of an existing class to be used from another\n",
    "interface. In other words, an adapter wraps a class or an object A so that it works in\n",
    "a context intended for a class or an object B"
   ]
  },
  {
   "cell_type": "markdown",
   "metadata": {},
   "source": [
    "*\"If it walks like a duck and talks like a duck, then it's a duck!\"*"
   ]
  },
  {
   "cell_type": "code",
   "execution_count": 2,
   "metadata": {},
   "outputs": [],
   "source": [
    "# React like a dict and suit for `DublinCoreInfo`\n",
    "class DublinCoreAdapter:\n",
    "    def __init__(self):\n",
    "        pass\n",
    "    \n",
    "    @property\n",
    "    def title(self):\n",
    "        return \"example\"\n",
    "    \n",
    "    @property\n",
    "    def languages(self):\n",
    "        return (\"en\", )\n",
    "    \n",
    "    def __getitem__(self, item):\n",
    "        return getattr(self, item, \"Unknown\")\n",
    "\n",
    "class DublinCoreInfo:\n",
    "    def summary(self, dc_dict):\n",
    "        print('Title: %s' % dc_dict['title'])\n",
    "        print('Creator: %s' % dc_dict['creator'])\n",
    "        print('Languages: %s' % ', '.join(dc_dict['languages']))"
   ]
  },
  {
   "cell_type": "code",
   "execution_count": 3,
   "metadata": {},
   "outputs": [
    {
     "name": "stdout",
     "output_type": "stream",
     "text": [
      "Title: example\n",
      "Creator: Unknown\n",
      "Languages: en\n"
     ]
    }
   ],
   "source": [
    "adapted = DublinCoreAdapter()\n",
    "infos = DublinCoreInfo()\n",
    "infos.summary(adapted)"
   ]
  },
  {
   "cell_type": "markdown",
   "metadata": {},
   "source": [
    "Adapting an object to work in a specifc context makes the\n",
    "assumption that the class of the object does not matter at all. What matters is that\n",
    "this class implements what `DublinCoreInfo` is waiting for and this behavior is\n",
    "fxed or completed by an adapter. So, the code can, somehow, simply tell whether\n",
    "it is compatible with objects that are implementing a specifc behavior. This can be\n",
    "expressed by interfaces"
   ]
  }
 ],
 "metadata": {
  "kernelspec": {
   "display_name": "Python 3",
   "language": "python",
   "name": "python3"
  },
  "language_info": {
   "codemirror_mode": {
    "name": "ipython",
    "version": 3
   },
   "file_extension": ".py",
   "mimetype": "text/x-python",
   "name": "python",
   "nbconvert_exporter": "python",
   "pygments_lexer": "ipython3",
   "version": "3.6.5"
  }
 },
 "nbformat": 4,
 "nbformat_minor": 2
}
