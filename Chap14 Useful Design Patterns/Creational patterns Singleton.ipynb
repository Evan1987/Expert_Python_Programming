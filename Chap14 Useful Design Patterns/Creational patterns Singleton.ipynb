{
 "cells": [
  {
   "cell_type": "markdown",
   "metadata": {},
   "source": [
    "The singleton pattern makes sure that a given class has always only one living\n",
    "instance in the application. This can be used, for example, when you want to restrict\n",
    "a resource access to one and only one memory context in the process. For instance,\n",
    "a database connector class can be a singleton that deals with synchronization and\n",
    "manages its data in memory. It makes the assumption that no other instance is\n",
    "interacting with the database in the meantime"
   ]
  },
  {
   "cell_type": "markdown",
   "metadata": {},
   "source": [
    "## Semi-idiom way (not safe)"
   ]
  },
  {
   "cell_type": "code",
   "execution_count": 8,
   "metadata": {},
   "outputs": [],
   "source": [
    "class Singleton:\n",
    "    _instance = None\n",
    "    def __new__(cls, *args, **kwargs):\n",
    "        if cls._instance is None:\n",
    "            cls._instance = super().__new__(cls, *args, **kwargs)\n",
    "        return cls._instance"
   ]
  },
  {
   "cell_type": "code",
   "execution_count": 9,
   "metadata": {},
   "outputs": [
    {
     "name": "stdout",
     "output_type": "stream",
     "text": [
      "Before init instance\n",
      "`Singleton`'s inner `_instance`:  1694540944\n",
      "----------\n",
      "After init instance\n",
      "`Singleton`'s inner `_instance`:  2159455008192\n",
      "`a`'s inner `_instance`:  2159455008192\n",
      "`b`'s inner `_instance`: ' 2159455008192\n",
      "`a`:  2159455008192\n",
      "`b`:  2159455008192\n"
     ]
    }
   ],
   "source": [
    "print(\"Before init instance\")\n",
    "print(\"`Singleton`'s inner `_instance`: \", id(Singleton._instance))\n",
    "print(\"-\" * 10)\n",
    "a = Singleton()\n",
    "b = Singleton()\n",
    "print(\"After init instance\")\n",
    "print(\"`Singleton`'s inner `_instance`: \", id(Singleton._instance))\n",
    "print(\"`a`'s inner `_instance`: \", id(a._instance))\n",
    "print(\"`b`'s inner `_instance`: '\", id(b._instance))\n",
    "print(\"`a`: \", id(a))\n",
    "print(\"`b`: \", id(b))"
   ]
  },
  {
   "cell_type": "markdown",
   "metadata": {},
   "source": [
    "The problem starts when you try to subclass your base singleton class and create an instance of this new\n",
    "subclass if you already created an instance of the base class"
   ]
  },
  {
   "cell_type": "code",
   "execution_count": 43,
   "metadata": {},
   "outputs": [
    {
     "name": "stdout",
     "output_type": "stream",
     "text": [
      "`Singleton`:  2159455554696\n",
      "`ConcreteClass`:  2159455554696\n"
     ]
    }
   ],
   "source": [
    "del Singleton\n",
    "class Singleton:\n",
    "    _instance = None\n",
    "    def __new__(cls, *args, **kwargs):\n",
    "        if cls._instance is None:\n",
    "            cls._instance = super().__new__(cls, *args, **kwargs)\n",
    "        return cls._instance\n",
    "class ConcreteClass(Singleton):\n",
    "    pass\n",
    "\n",
    "# They are the same instance, which is dangerous\n",
    "print(\"`Singleton`: \", id(Singleton()))\n",
    "print(\"`ConcreteClass`: \", id(ConcreteClass()))"
   ]
  },
  {
   "cell_type": "markdown",
   "metadata": {},
   "source": [
    "This may become even more problematic when you notice that this behavior is\n",
    "affected by an instance creation order. Depending on your class usage order, you\n",
    "may or may not get the same result."
   ]
  },
  {
   "cell_type": "code",
   "execution_count": 44,
   "metadata": {},
   "outputs": [
    {
     "name": "stdout",
     "output_type": "stream",
     "text": [
      "`ConcreteClass`:  2159455555256\n",
      "`Singleton`:  2159455554920\n"
     ]
    }
   ],
   "source": [
    "del Singleton\n",
    "class Singleton:\n",
    "    _instance = None\n",
    "    def __new__(cls, *args, **kwargs):\n",
    "        if cls._instance is None:\n",
    "            cls._instance = super().__new__(cls, *args, **kwargs)\n",
    "        return cls._instance\n",
    "class ConcreteClass(Singleton):\n",
    "    pass\n",
    "\n",
    "# Changed the creation order, the result is different.\n",
    "print(\"`ConcreteClass`: \", id(ConcreteClass()))\n",
    "print(\"`Singleton`: \", id(Singleton()))"
   ]
  },
  {
   "cell_type": "markdown",
   "metadata": {},
   "source": [
    "## Safer way by adding dict"
   ]
  },
  {
   "cell_type": "markdown",
   "metadata": {},
   "source": [
    "It is a lot safer to use a more advanced technique—metaclasses. By adding a dict for a metaclass, you can affect the creation of your custom\n",
    "classes. This allows creating a reusable singleton code"
   ]
  },
  {
   "cell_type": "code",
   "execution_count": 45,
   "metadata": {},
   "outputs": [],
   "source": [
    "del Singleton\n",
    "class Singleton(object):\n",
    "    _instances = { }\n",
    "    def __new__(cls, *args, **kwargs):\n",
    "        if cls not in cls._instances:\n",
    "            cls._instances[cls] = super().__new__(cls, *args, **kwargs)\n",
    "        return cls._instances[cls]"
   ]
  },
  {
   "cell_type": "markdown",
   "metadata": {},
   "source": [
    "By using this Singleton as a metaclass for your custom classes, you are able to get\n",
    "singletons that are safe to subclass and independent of instance creation order:"
   ]
  },
  {
   "cell_type": "code",
   "execution_count": 46,
   "metadata": {},
   "outputs": [
    {
     "name": "stdout",
     "output_type": "stream",
     "text": [
      "`Singleton`:  2159455009760\n",
      "`ConcreteClass`:  2159455007128\n"
     ]
    }
   ],
   "source": [
    "class ConcreteClass(Singleton):\n",
    "    pass\n",
    "print(\"`Singleton`: \", id(Singleton()))\n",
    "print(\"`ConcreteClass`: \", id(ConcreteClass()))"
   ]
  },
  {
   "cell_type": "code",
   "execution_count": 47,
   "metadata": {},
   "outputs": [
    {
     "name": "stdout",
     "output_type": "stream",
     "text": [
      "`ConcreteClass`:  2159455553800\n",
      "`Singleton`:  2159455552120\n"
     ]
    }
   ],
   "source": [
    "del Singleton\n",
    "class Singleton(object):\n",
    "    _instances = {}\n",
    "    def __new__(cls, *args, **kwargs):\n",
    "        if cls not in cls._instances:\n",
    "            cls._instances[cls] = super().__new__(cls, *args, **kwargs)\n",
    "        return cls._instances[cls]\n",
    "class ConcreteClass(Singleton):\n",
    "    pass\n",
    "print(\"`ConcreteClass`: \", id(ConcreteClass()))\n",
    "print(\"`Singleton`: \", id(Singleton()))"
   ]
  },
  {
   "cell_type": "markdown",
   "metadata": {},
   "source": [
    "## Another way to construct a Singleton"
   ]
  },
  {
   "cell_type": "markdown",
   "metadata": {},
   "source": [
    "Another way to overcome the problem of trivial singleton implementation is to use\n",
    "what Alex Martelli proposed. He came out with something similar in behavior to\n",
    "singleton but completely different in structure. This is not a classical design pattern\n",
    "coming from the GoF book, but it seems to be common among Python developers. It\n",
    "is called `Borg` or `Monostate`."
   ]
  },
  {
   "cell_type": "markdown",
   "metadata": {},
   "source": [
    "The idea is quite simple. What really matters in the singleton pattern is not the\n",
    "number of living instances a class has, but rather the fact that they all share the same\n",
    "state at all times. So, Alex Martelli came up with a class that makes all instances of\n",
    "the class share the same `__dict__`:"
   ]
  },
  {
   "cell_type": "code",
   "execution_count": 49,
   "metadata": {},
   "outputs": [],
   "source": [
    "class Borg(object):\n",
    "    _state = {}\n",
    "    def __new__(cls, *args, **kwargs):\n",
    "        ob = super().__new__(cls, *args, **kwargs)\n",
    "        ob.__dict__ = cls._state\n",
    "        return ob"
   ]
  }
 ],
 "metadata": {
  "kernelspec": {
   "display_name": "Python 3",
   "language": "python",
   "name": "python3"
  },
  "language_info": {
   "codemirror_mode": {
    "name": "ipython",
    "version": 3
   },
   "file_extension": ".py",
   "mimetype": "text/x-python",
   "name": "python",
   "nbconvert_exporter": "python",
   "pygments_lexer": "ipython3",
   "version": "3.6.5"
  }
 },
 "nbformat": 4,
 "nbformat_minor": 2
}
