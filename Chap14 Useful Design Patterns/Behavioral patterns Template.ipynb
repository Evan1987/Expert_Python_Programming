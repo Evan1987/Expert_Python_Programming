{
 "cells": [
  {
   "cell_type": "markdown",
   "metadata": {},
   "source": [
    "`Template` helps in designing a generic algorithm by defning abstract steps which\n",
    "are implemented in subclasses. This pattern uses the **Liskov substitution principle**,\n",
    "which is defned by Wikipedia as:  \n",
    "  \n",
    "  \n",
    "*\"If S is a subtype of T, then objects of type T in a program may be replaced with\n",
    "objects of type S without altering any of the desirable properties of that program.\"*"
   ]
  },
  {
   "cell_type": "markdown",
   "metadata": {},
   "source": [
    "In other words, an abstract class can defne how an algorithm works through steps\n",
    "that are implemented in concrete classes. The abstract class can also give a basic or\n",
    "partial implementation of the algorithm and let developers override its parts. For\n",
    "instance, some methods of the Queue class in the queue module can be overridden\n",
    "to make its behavior vary"
   ]
  },
  {
   "cell_type": "markdown",
   "metadata": {},
   "source": [
    "Example:  \n",
    "`Indexer` is an indexer class that processes a text in fve steps, which are common\n",
    "steps no matter what indexing technique is used:  \n",
    "• Text normalization  \n",
    "• Text split  \n",
    "• Stop words removal  \n",
    "• Stem words  \n",
    "• Frequency  "
   ]
  },
  {
   "cell_type": "code",
   "execution_count": 156,
   "metadata": {},
   "outputs": [],
   "source": [
    "from collections import Counter\n",
    "\n",
    "class Indexer:\n",
    "    \n",
    "    @staticmethod\n",
    "    def _normalize_text(text):\n",
    "        return text.strip().lower()\n",
    "    \n",
    "    @staticmethod\n",
    "    def _split_text(text):\n",
    "        return text.split()\n",
    "    \n",
    "    def _remove_stop_words(self, words):\n",
    "        raise NotImplementedError\n",
    "    \n",
    "    def _stem_words(self, words):\n",
    "        raise NotImplementedError\n",
    "    \n",
    "    @staticmethod\n",
    "    def _frequency(words):\n",
    "        return Counter(words)\n",
    "    \n",
    "    def process(self, text):\n",
    "        text = self._normalize_text(text)\n",
    "        words = self._split_text(text)\n",
    "        words = self._remove_stop_words(words)\n",
    "        stemmed_words = self._stem_words(words)\n",
    "        return self._frequency(stemmed_words)"
   ]
  },
  {
   "cell_type": "markdown",
   "metadata": {},
   "source": [
    "From there, a `BasicIndexer` implementation can be"
   ]
  },
  {
   "cell_type": "code",
   "execution_count": 157,
   "metadata": {},
   "outputs": [],
   "source": [
    "class BasicIndexer(Indexer):\n",
    "    _stop_words = {'he', 'she', 'is', 'and', 'or', 'the'}\n",
    "    \n",
    "    def _remove_stop_words(self, words):\n",
    "        return [word for word in words if word not in self._stop_words]\n",
    "    \n",
    "    def _stem_words(self, words):\n",
    "        # 三元组表达，等同于 word.rstrip(\"aeiouy\") if len(word) > 3 else word\n",
    "        return [(len(word) > 3 and word.rstrip('aeiouy') or word) for word in words]"
   ]
  },
  {
   "cell_type": "code",
   "execution_count": 158,
   "metadata": {},
   "outputs": [
    {
     "data": {
      "text/plain": [
       "Counter({'just': 1,\n",
       "         'lik': 1,\n",
       "         'johnn': 1,\n",
       "         'flynn': 1,\n",
       "         'said': 1,\n",
       "         'breath': 1,\n",
       "         \"i'v\": 1,\n",
       "         'taken': 1,\n",
       "         'one': 1,\n",
       "         'i': 1,\n",
       "         'must': 1,\n",
       "         'to': 1,\n",
       "         'go': 1,\n",
       "         'on': 1})"
      ]
     },
     "execution_count": 158,
     "metadata": {},
     "output_type": "execute_result"
    }
   ],
   "source": [
    "indexer = BasicIndexer()\n",
    "indexer.process(\"Just like Johnny Flynn said\\nThe breath I've taken and the one I must to go on\")"
   ]
  }
 ],
 "metadata": {
  "kernelspec": {
   "display_name": "Python 3",
   "language": "python",
   "name": "python3"
  },
  "language_info": {
   "codemirror_mode": {
    "name": "ipython",
    "version": 3
   },
   "file_extension": ".py",
   "mimetype": "text/x-python",
   "name": "python",
   "nbconvert_exporter": "python",
   "pygments_lexer": "ipython3",
   "version": "3.6.5"
  }
 },
 "nbformat": 4,
 "nbformat_minor": 2
}
