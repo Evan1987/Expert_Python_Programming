{
 "cells": [
  {
   "cell_type": "markdown",
   "metadata": {},
   "source": [
    "## Interfaces"
   ]
  },
  {
   "cell_type": "markdown",
   "metadata": {},
   "source": [
    "An `interface` is a defnition of an API. It describes a list of methods and attributes a\n",
    "class should have to implement with the desired behavior. This description does not\n",
    "implement any code but just defines an explicit contract for any class that wishes to\n",
    "implement the interface. Any class can then implement one or several interfaces in\n",
    "whichever way it wants."
   ]
  },
  {
   "cell_type": "markdown",
   "metadata": {},
   "source": [
    "### Using `zope.interface`"
   ]
  },
  {
   "cell_type": "markdown",
   "metadata": {},
   "source": [
    "The core class of the `zope.interface` package is the `Interface` class. It allows you\n",
    "to explicitly defne a new interface by subclassing. Let's assume that we want to\n",
    "defne the obligatory interface for every implementation of a rectangle:"
   ]
  },
  {
   "cell_type": "code",
   "execution_count": 18,
   "metadata": {},
   "outputs": [],
   "source": [
    "from zope.interface import Interface, Attribute, implementer\n",
    "from zope.interface.verify import verifyClass, verifyObject\n",
    "\n",
    "class IRectangle(Interface):\n",
    "    width = Attribute(\"The width of rectangle\")\n",
    "    height = Attribute(\"The height of rectangle\")\n",
    "    \n",
    "    def area():\n",
    "        \"\"\"Return area of rectangle\"\"\"\n",
    "        pass\n",
    "    \n",
    "    def perimeter():\n",
    "        \"\"\"Return perimeter of rectangle\"\"\"\n",
    "        pass"
   ]
  },
  {
   "cell_type": "markdown",
   "metadata": {},
   "source": [
    "• The common naming convention for interfaces is to use `I` as the name suffix.  \n",
    "• The methods of the interface must not take the `self` parameter.  \n",
    "• As the interface does not provide concrete implementation, it should\n",
    "consist only of empty methods. You can use the `pass` statement, raise\n",
    "`NotImplementedError`, or provide a `docstring` (preferred).  \n",
    "• An interface can also specify the required attributes using the `Attribute` class."
   ]
  },
  {
   "cell_type": "code",
   "execution_count": 19,
   "metadata": {},
   "outputs": [],
   "source": [
    "@implementer(IRectangle)\n",
    "class Square:\n",
    "    \"\"\"Concrete implementation of square with rectangle interface\"\"\"\n",
    "    def __init__(self, size):\n",
    "        self.size = size\n",
    "    \n",
    "    @property\n",
    "    def width(self):\n",
    "        return self.size\n",
    "    \n",
    "    @property\n",
    "    def height(self):\n",
    "        return self.size\n",
    "    \n",
    "    def area(self):\n",
    "        return self.size ** 2\n",
    "    \n",
    "    def perimeter(self):\n",
    "        return 4 * self.size"
   ]
  },
  {
   "cell_type": "code",
   "execution_count": null,
   "metadata": {},
   "outputs": [],
   "source": [
    "@implementer(IRectangle)\n",
    "class Square:\n",
    "    \"\"\"Concrete implementation of square with rectangle interface\"\"\"\n",
    "    def __init__(self, size):\n",
    "        self.size = size\n",
    "    \n",
    "    @property\n",
    "    def width(self):\n",
    "        return self.size\n",
    "    \n",
    "    @property\n",
    "    def height(self):\n",
    "        return self.size\n",
    "    \n",
    "    def area(self):\n",
    "        return self.size ** 2\n",
    "    \n",
    "    def perimeter(self):\n",
    "        return 4 * self.size"
   ]
  },
  {
   "cell_type": "code",
   "execution_count": 23,
   "metadata": {},
   "outputs": [
    {
     "name": "stdout",
     "output_type": "stream",
     "text": [
      "True\n",
      "True\n"
     ]
    }
   ],
   "source": [
    "a = Square(5)\n",
    "print(verifyClass(IRectangle, Square))\n",
    "print(verifyObject(IRectangle, a))"
   ]
  },
  {
   "cell_type": "code",
   "execution_count": 25,
   "metadata": {},
   "outputs": [
    {
     "name": "stdout",
     "output_type": "stream",
     "text": [
      "True\n"
     ]
    },
    {
     "ename": "BrokenImplementation",
     "evalue": "An object has failed to implement interface <InterfaceClass __main__.IRectangle>\n\n        The width attribute was not provided.\n        ",
     "output_type": "error",
     "traceback": [
      "\u001b[1;31m---------------------------------------------------------------------------\u001b[0m",
      "\u001b[1;31mAttributeError\u001b[0m                            Traceback (most recent call last)",
      "\u001b[1;32mC:\\ProgramData\\Anaconda3\\lib\\site-packages\\zope\\interface\\verify.py\u001b[0m in \u001b[0;36m_verify\u001b[1;34m(iface, candidate, tentative, vtype)\u001b[0m\n\u001b[0;32m     54\u001b[0m         \u001b[1;32mtry\u001b[0m\u001b[1;33m:\u001b[0m\u001b[1;33m\u001b[0m\u001b[0m\n\u001b[1;32m---> 55\u001b[1;33m             \u001b[0mattr\u001b[0m \u001b[1;33m=\u001b[0m \u001b[0mgetattr\u001b[0m\u001b[1;33m(\u001b[0m\u001b[0mcandidate\u001b[0m\u001b[1;33m,\u001b[0m \u001b[0mname\u001b[0m\u001b[1;33m)\u001b[0m\u001b[1;33m\u001b[0m\u001b[0m\n\u001b[0m\u001b[0;32m     56\u001b[0m         \u001b[1;32mexcept\u001b[0m \u001b[0mAttributeError\u001b[0m\u001b[1;33m:\u001b[0m\u001b[1;33m\u001b[0m\u001b[0m\n",
      "\u001b[1;31mAttributeError\u001b[0m: 'Circle' object has no attribute 'width'",
      "\nDuring handling of the above exception, another exception occurred:\n",
      "\u001b[1;31mBrokenImplementation\u001b[0m                      Traceback (most recent call last)",
      "\u001b[1;32m<ipython-input-25-671c09564774>\u001b[0m in \u001b[0;36m<module>\u001b[1;34m()\u001b[0m\n\u001b[0;32m     11\u001b[0m \u001b[0mb\u001b[0m \u001b[1;33m=\u001b[0m \u001b[0mCircle\u001b[0m\u001b[1;33m(\u001b[0m\u001b[1;36m3\u001b[0m\u001b[1;33m)\u001b[0m\u001b[1;33m\u001b[0m\u001b[0m\n\u001b[0;32m     12\u001b[0m \u001b[0mprint\u001b[0m\u001b[1;33m(\u001b[0m\u001b[0mverifyClass\u001b[0m\u001b[1;33m(\u001b[0m\u001b[0mIRectangle\u001b[0m\u001b[1;33m,\u001b[0m \u001b[0mCircle\u001b[0m\u001b[1;33m)\u001b[0m\u001b[1;33m)\u001b[0m\u001b[1;33m\u001b[0m\u001b[0m\n\u001b[1;32m---> 13\u001b[1;33m \u001b[0mprint\u001b[0m\u001b[1;33m(\u001b[0m\u001b[0mverifyObject\u001b[0m\u001b[1;33m(\u001b[0m\u001b[0mIRectangle\u001b[0m\u001b[1;33m,\u001b[0m \u001b[0mb\u001b[0m\u001b[1;33m)\u001b[0m\u001b[1;33m)\u001b[0m\u001b[1;33m\u001b[0m\u001b[0m\n\u001b[0m",
      "\u001b[1;32mC:\\ProgramData\\Anaconda3\\lib\\site-packages\\zope\\interface\\verify.py\u001b[0m in \u001b[0;36mverifyObject\u001b[1;34m(iface, candidate, tentative)\u001b[0m\n\u001b[0;32m    106\u001b[0m \u001b[1;33m\u001b[0m\u001b[0m\n\u001b[0;32m    107\u001b[0m \u001b[1;32mdef\u001b[0m \u001b[0mverifyObject\u001b[0m\u001b[1;33m(\u001b[0m\u001b[0miface\u001b[0m\u001b[1;33m,\u001b[0m \u001b[0mcandidate\u001b[0m\u001b[1;33m,\u001b[0m \u001b[0mtentative\u001b[0m\u001b[1;33m=\u001b[0m\u001b[1;36m0\u001b[0m\u001b[1;33m)\u001b[0m\u001b[1;33m:\u001b[0m\u001b[1;33m\u001b[0m\u001b[0m\n\u001b[1;32m--> 108\u001b[1;33m     \u001b[1;32mreturn\u001b[0m \u001b[0m_verify\u001b[0m\u001b[1;33m(\u001b[0m\u001b[0miface\u001b[0m\u001b[1;33m,\u001b[0m \u001b[0mcandidate\u001b[0m\u001b[1;33m,\u001b[0m \u001b[0mtentative\u001b[0m\u001b[1;33m,\u001b[0m \u001b[0mvtype\u001b[0m\u001b[1;33m=\u001b[0m\u001b[1;34m'o'\u001b[0m\u001b[1;33m)\u001b[0m\u001b[1;33m\u001b[0m\u001b[0m\n\u001b[0m\u001b[0;32m    109\u001b[0m \u001b[1;33m\u001b[0m\u001b[0m\n\u001b[0;32m    110\u001b[0m \u001b[1;32mdef\u001b[0m \u001b[0m_incompat\u001b[0m\u001b[1;33m(\u001b[0m\u001b[0mrequired\u001b[0m\u001b[1;33m,\u001b[0m \u001b[0mimplemented\u001b[0m\u001b[1;33m)\u001b[0m\u001b[1;33m:\u001b[0m\u001b[1;33m\u001b[0m\u001b[0m\n",
      "\u001b[1;32mC:\\ProgramData\\Anaconda3\\lib\\site-packages\\zope\\interface\\verify.py\u001b[0m in \u001b[0;36m_verify\u001b[1;34m(iface, candidate, tentative, vtype)\u001b[0m\n\u001b[0;32m     60\u001b[0m                 \u001b[1;32mcontinue\u001b[0m\u001b[1;33m\u001b[0m\u001b[0m\n\u001b[0;32m     61\u001b[0m \u001b[1;33m\u001b[0m\u001b[0m\n\u001b[1;32m---> 62\u001b[1;33m             \u001b[1;32mraise\u001b[0m \u001b[0mBrokenImplementation\u001b[0m\u001b[1;33m(\u001b[0m\u001b[0miface\u001b[0m\u001b[1;33m,\u001b[0m \u001b[0mname\u001b[0m\u001b[1;33m)\u001b[0m\u001b[1;33m\u001b[0m\u001b[0m\n\u001b[0m\u001b[0;32m     63\u001b[0m \u001b[1;33m\u001b[0m\u001b[0m\n\u001b[0;32m     64\u001b[0m         \u001b[1;32mif\u001b[0m \u001b[1;32mnot\u001b[0m \u001b[0misinstance\u001b[0m\u001b[1;33m(\u001b[0m\u001b[0mdesc\u001b[0m\u001b[1;33m,\u001b[0m \u001b[0mMethod\u001b[0m\u001b[1;33m)\u001b[0m\u001b[1;33m:\u001b[0m\u001b[1;33m\u001b[0m\u001b[0m\n",
      "\u001b[1;31mBrokenImplementation\u001b[0m: An object has failed to implement interface <InterfaceClass __main__.IRectangle>\n\n        The width attribute was not provided.\n        "
     ]
    }
   ],
   "source": [
    "# Not implement some properties\n",
    "@implementer(IRectangle)\n",
    "class Circle:\n",
    "    def __init__(self, radius):\n",
    "        self.radius = radius\n",
    "    def area(self):\n",
    "        return math.pi * self.radius ** 2\n",
    "    def perimeter(self):\n",
    "        return 2 * math.pi * self.radius\n",
    "\n",
    "b = Circle(3)\n",
    "print(verifyClass(IRectangle, Circle))  # True\n",
    "print(verifyObject(IRectangle, b))  # Not implementation"
   ]
  },
  {
   "cell_type": "markdown",
   "metadata": {},
   "source": [
    "### Using Abstract classes(ABC)"
   ]
  },
  {
   "cell_type": "code",
   "execution_count": 26,
   "metadata": {},
   "outputs": [],
   "source": [
    "from abc import ABCMeta, abstractmethod"
   ]
  },
  {
   "cell_type": "code",
   "execution_count": 28,
   "metadata": {},
   "outputs": [],
   "source": [
    "class Pushable(metaclass=ABCMeta):\n",
    "    @abstractmethod\n",
    "    def push(self, x):\n",
    "        \"\"\" Push argument no matter what it means \"\"\"    "
   ]
  },
  {
   "cell_type": "code",
   "execution_count": 30,
   "metadata": {},
   "outputs": [],
   "source": [
    "class DummyPushable(Pushable):\n",
    "    def push(self, x):\n",
    "        return\n",
    "    \n",
    "class IncompletePushable(Pushable):\n",
    "    pass"
   ]
  },
  {
   "cell_type": "code",
   "execution_count": 31,
   "metadata": {},
   "outputs": [
    {
     "data": {
      "text/plain": [
       "<__main__.DummyPushable at 0x1875b36d0f0>"
      ]
     },
     "execution_count": 31,
     "metadata": {},
     "output_type": "execute_result"
    }
   ],
   "source": [
    "DummyPushable()"
   ]
  },
  {
   "cell_type": "code",
   "execution_count": 33,
   "metadata": {},
   "outputs": [
    {
     "ename": "TypeError",
     "evalue": "Can't instantiate abstract class IncompletePushable with abstract methods push",
     "output_type": "error",
     "traceback": [
      "\u001b[1;31m---------------------------------------------------------------------------\u001b[0m",
      "\u001b[1;31mTypeError\u001b[0m                                 Traceback (most recent call last)",
      "\u001b[1;32m<ipython-input-33-794437428e25>\u001b[0m in \u001b[0;36m<module>\u001b[1;34m()\u001b[0m\n\u001b[1;32m----> 1\u001b[1;33m \u001b[0mIncompletePushable\u001b[0m\u001b[1;33m(\u001b[0m\u001b[1;33m)\u001b[0m  \u001b[1;31m# raise error\u001b[0m\u001b[1;33m\u001b[0m\u001b[0m\n\u001b[0m",
      "\u001b[1;31mTypeError\u001b[0m: Can't instantiate abstract class IncompletePushable with abstract methods push"
     ]
    }
   ],
   "source": [
    "IncompletePushable()  # raise error"
   ]
  },
  {
   "cell_type": "markdown",
   "metadata": {},
   "source": [
    "a great way to ensure implementation completeness of base classes but is as explicit as the `zope.interface` alternative"
   ]
  },
  {
   "cell_type": "code",
   "execution_count": 35,
   "metadata": {},
   "outputs": [
    {
     "data": {
      "text/plain": [
       "False"
      ]
     },
     "execution_count": 35,
     "metadata": {},
     "output_type": "execute_result"
    }
   ],
   "source": [
    "# not a subclass of `Pushable`, so although implement the base method, it is not identified.\n",
    "# but in zope.interface, it will be identified.\n",
    "class SomethingWithPush:\n",
    "    def push(self, x):\n",
    "        pass\n",
    "\n",
    "isinstance(SomethingWithPush, Pushable)"
   ]
  },
  {
   "cell_type": "code",
   "execution_count": 37,
   "metadata": {},
   "outputs": [],
   "source": [
    "from abc import ABCMeta, abstractmethod\n",
    "\n",
    "class Pushable(metaclass=ABCMeta):\n",
    "    \n",
    "    @abstractmethod\n",
    "    def push(self, x):\n",
    "        \"\"\" Push argument no matter what it means \"\"\"\n",
    "    \n",
    "    @classmethod\n",
    "    def __subclasshook__(cls, C):\n",
    "        if cls is Pushable:\n",
    "            if any(\"push\" in sub.__dict__ for sub in C.__mro__):\n",
    "                return True\n",
    "        return NotImplemented"
   ]
  },
  {
   "cell_type": "code",
   "execution_count": 38,
   "metadata": {},
   "outputs": [
    {
     "data": {
      "text/plain": [
       "True"
      ]
     },
     "execution_count": 38,
     "metadata": {},
     "output_type": "execute_result"
    }
   ],
   "source": [
    "isinstance(SomethingWithPush(), Pushable)"
   ]
  },
  {
   "cell_type": "markdown",
   "metadata": {},
   "source": [
    "### Using function annotations to implement"
   ]
  },
  {
   "cell_type": "code",
   "execution_count": 42,
   "metadata": {},
   "outputs": [],
   "source": [
    "from abc import ABCMeta, abstractmethod, abstractproperty\n",
    "\n",
    "# a method to simulate zope.interface using abc\n",
    "class IRectangle(metaclass=ABCMeta):\n",
    "    \n",
    "    @abstractproperty\n",
    "    def width(self):\n",
    "        pass\n",
    "    \n",
    "    @abstractproperty\n",
    "    def height(self):\n",
    "        pass\n",
    "    \n",
    "    @abstractmethod\n",
    "    def area():\n",
    "        \"\"\"Return area of rectangle\"\"\"\n",
    "        pass\n",
    "    \n",
    "    @abstractmethod\n",
    "    def perimeter():\n",
    "        \"\"\"Return perimeter of rectangle\"\"\"\n",
    "        pass\n",
    "    \n",
    "    @classmethod\n",
    "    def __subclasshook__(cls, C):\n",
    "        if cls is IRectangle:\n",
    "            if all([\n",
    "                any(\"area\" in sub.__dict__ for sub in C.__mro__),\n",
    "                any(\"perimeter\" in sub.__dict__ for sub in C.__mro__),\n",
    "                any(\"width\" in sub.__dict__ for sub in C.__mro__),\n",
    "                any(\"height\" in sub.__dict__ for sub in C.__mro__),\n",
    "            ]):\n",
    "                return True\n",
    "        return NotImplemented"
   ]
  },
  {
   "cell_type": "code",
   "execution_count": 44,
   "metadata": {},
   "outputs": [],
   "source": [
    "import inspect\n",
    "from functools import wraps"
   ]
  },
  {
   "cell_type": "code",
   "execution_count": 45,
   "metadata": {},
   "outputs": [],
   "source": [
    "def ensure_interface(function):\n",
    "    signature = inspect.signature(function)\n",
    "    parameters = signature.parameters\n",
    "    \n",
    "    @wraps(function)\n",
    "    def wrapped(*args, **kwargs):\n",
    "        bound = signature.bind(*args, **kwargs)\n",
    "        for name, value in bound.arguments.items():\n",
    "            annotation = parameters[name].annotation\n",
    "            if not isinstance(annotation, ABCMeta):\n",
    "                continue\n",
    "            if not isinstance(value, annotation):\n",
    "                raise TypeError(\"{} does not implement {} interface\".format(value, annotation))\n",
    "        return function(*args, **kwargs)\n",
    "    return wrapped"
   ]
  },
  {
   "cell_type": "code",
   "execution_count": 46,
   "metadata": {},
   "outputs": [],
   "source": [
    "class ImplicitRectangle:\n",
    "    \n",
    "    def __init__(self, width, height):\n",
    "        self._width = width\n",
    "        self._height = height\n",
    "\n",
    "    @property\n",
    "    def width(self):\n",
    "        return self._width\n",
    "    \n",
    "    @property\n",
    "    def height(self):\n",
    "        return self._height\n",
    "    \n",
    "    def area(self):\n",
    "        return self.width * self.height\n",
    "    \n",
    "    def perimeter(self):\n",
    "        return self.width * 2 + self.height * 2\n",
    "\n",
    "@ensure_interface\n",
    "def draw_rectangle(rectangle: IRectangle):\n",
    "    print(\"{} x {} rectangle drawing.\".format(rectangle.width, rectangle.height))"
   ]
  },
  {
   "cell_type": "code",
   "execution_count": 53,
   "metadata": {},
   "outputs": [
    {
     "ename": "TypeError",
     "evalue": "foo does not implement <class '__main__.IRectangle'> interface",
     "output_type": "error",
     "traceback": [
      "\u001b[1;31m---------------------------------------------------------------------------\u001b[0m",
      "\u001b[1;31mTypeError\u001b[0m                                 Traceback (most recent call last)",
      "\u001b[1;32m<ipython-input-53-9002e52b0e92>\u001b[0m in \u001b[0;36m<module>\u001b[1;34m()\u001b[0m\n\u001b[1;32m----> 1\u001b[1;33m \u001b[0mdraw_rectangle\u001b[0m\u001b[1;33m(\u001b[0m\u001b[1;34m\"foo\"\u001b[0m\u001b[1;33m)\u001b[0m\u001b[1;33m\u001b[0m\u001b[0m\n\u001b[0m",
      "\u001b[1;32m<ipython-input-45-bd76f2c113ac>\u001b[0m in \u001b[0;36mwrapped\u001b[1;34m(*args, **kwargs)\u001b[0m\n\u001b[0;32m     11\u001b[0m                 \u001b[1;32mcontinue\u001b[0m\u001b[1;33m\u001b[0m\u001b[0m\n\u001b[0;32m     12\u001b[0m             \u001b[1;32mif\u001b[0m \u001b[1;32mnot\u001b[0m \u001b[0misinstance\u001b[0m\u001b[1;33m(\u001b[0m\u001b[0mvalue\u001b[0m\u001b[1;33m,\u001b[0m \u001b[0mannotation\u001b[0m\u001b[1;33m)\u001b[0m\u001b[1;33m:\u001b[0m\u001b[1;33m\u001b[0m\u001b[0m\n\u001b[1;32m---> 13\u001b[1;33m                 \u001b[1;32mraise\u001b[0m \u001b[0mTypeError\u001b[0m\u001b[1;33m(\u001b[0m\u001b[1;34m\"{} does not implement {} interface\"\u001b[0m\u001b[1;33m.\u001b[0m\u001b[0mformat\u001b[0m\u001b[1;33m(\u001b[0m\u001b[0mvalue\u001b[0m\u001b[1;33m,\u001b[0m \u001b[0mannotation\u001b[0m\u001b[1;33m)\u001b[0m\u001b[1;33m)\u001b[0m\u001b[1;33m\u001b[0m\u001b[0m\n\u001b[0m\u001b[0;32m     14\u001b[0m         \u001b[1;32mreturn\u001b[0m \u001b[0mfunction\u001b[0m\u001b[1;33m(\u001b[0m\u001b[1;33m*\u001b[0m\u001b[0margs\u001b[0m\u001b[1;33m,\u001b[0m \u001b[1;33m**\u001b[0m\u001b[0mkwargs\u001b[0m\u001b[1;33m)\u001b[0m\u001b[1;33m\u001b[0m\u001b[0m\n\u001b[0;32m     15\u001b[0m     \u001b[1;32mreturn\u001b[0m \u001b[0mwrapped\u001b[0m\u001b[1;33m\u001b[0m\u001b[0m\n",
      "\u001b[1;31mTypeError\u001b[0m: foo does not implement <class '__main__.IRectangle'> interface"
     ]
    }
   ],
   "source": [
    "draw_rectangle(\"foo\")"
   ]
  },
  {
   "cell_type": "code",
   "execution_count": 54,
   "metadata": {},
   "outputs": [
    {
     "name": "stdout",
     "output_type": "stream",
     "text": [
      "2 x 10 rectangle drawing.\n"
     ]
    }
   ],
   "source": [
    "draw_rectangle(ImplicitRectangle(2, 10))"
   ]
  },
  {
   "cell_type": "markdown",
   "metadata": {},
   "source": [
    "Another choice is to use `collections.abc` which already provide a lot of predefned ABCs that allow to verify interface compatibility of many basic Python types. "
   ]
  }
 ],
 "metadata": {
  "kernelspec": {
   "display_name": "Python 3",
   "language": "python",
   "name": "python3"
  },
  "language_info": {
   "codemirror_mode": {
    "name": "ipython",
    "version": 3
   },
   "file_extension": ".py",
   "mimetype": "text/x-python",
   "name": "python",
   "nbconvert_exporter": "python",
   "pygments_lexer": "ipython3",
   "version": "3.6.5"
  }
 },
 "nbformat": 4,
 "nbformat_minor": 2
}
