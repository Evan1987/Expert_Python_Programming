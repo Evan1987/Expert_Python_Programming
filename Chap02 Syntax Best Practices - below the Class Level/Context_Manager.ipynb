{
 "cells": [
  {
   "cell_type": "code",
   "execution_count": 1,
   "metadata": {},
   "outputs": [],
   "source": [
    "class ContextIllustration:\n",
    "    def __enter__(self):\n",
    "        print(\"entering context\")\n",
    "    def __exit__(self, exc_type, exc_value, traceback):\n",
    "        print(\"leaving context\")\n",
    "        \n",
    "        if exc_type is None:\n",
    "            print(\"with no error\")\n",
    "        else:\n",
    "            print(\"with an error (%s)\" % exc_value)"
   ]
  },
  {
   "cell_type": "code",
   "execution_count": 2,
   "metadata": {},
   "outputs": [
    {
     "name": "stdout",
     "output_type": "stream",
     "text": [
      "entering context\n",
      "insides\n",
      "leaving context\n",
      "with no error\n"
     ]
    }
   ],
   "source": [
    "with ContextIllustration():\n",
    "    print(\"insides\")"
   ]
  },
  {
   "cell_type": "code",
   "execution_count": 3,
   "metadata": {},
   "outputs": [
    {
     "name": "stdout",
     "output_type": "stream",
     "text": [
      "entering context\n",
      "leaving context\n",
      "with an error (something gone wrong insides)\n"
     ]
    },
    {
     "ename": "Exception",
     "evalue": "something gone wrong insides",
     "output_type": "error",
     "traceback": [
      "\u001b[0;31m---------------------------------------------------------------------------\u001b[0m",
      "\u001b[0;31mException\u001b[0m                                 Traceback (most recent call last)",
      "\u001b[0;32m<ipython-input-3-1379df9f0dc3>\u001b[0m in \u001b[0;36m<module>\u001b[0;34m()\u001b[0m\n\u001b[1;32m      1\u001b[0m \u001b[0;32mwith\u001b[0m \u001b[0mContextIllustration\u001b[0m\u001b[0;34m(\u001b[0m\u001b[0;34m)\u001b[0m\u001b[0;34m:\u001b[0m\u001b[0;34m\u001b[0m\u001b[0;34m\u001b[0m\u001b[0m\n\u001b[0;32m----> 2\u001b[0;31m     \u001b[0;32mraise\u001b[0m \u001b[0mException\u001b[0m\u001b[0;34m(\u001b[0m\u001b[0;34m\"something gone wrong insides\"\u001b[0m\u001b[0;34m)\u001b[0m\u001b[0;34m\u001b[0m\u001b[0;34m\u001b[0m\u001b[0m\n\u001b[0m",
      "\u001b[0;31mException\u001b[0m: something gone wrong insides"
     ]
    }
   ],
   "source": [
    "with ContextIllustration():\n",
    "    raise Exception(\"something gone wrong insides\")"
   ]
  },
  {
   "cell_type": "code",
   "execution_count": 4,
   "metadata": {},
   "outputs": [],
   "source": [
    "from contextlib import contextmanager"
   ]
  },
  {
   "cell_type": "code",
   "execution_count": 5,
   "metadata": {},
   "outputs": [],
   "source": [
    "@contextmanager\n",
    "def context_illustration():\n",
    "    print(\"entering context\")\n",
    "    try:\n",
    "        yield\n",
    "    except Exception as e:\n",
    "        print(\"leaving context\")\n",
    "        print(\"with an error (%s)\" % e)\n",
    "        raise  # exception needs to be raised\n",
    "    else:\n",
    "        print(\"leaving context\")\n",
    "        print(\"with no error\")\n",
    "        "
   ]
  },
  {
   "cell_type": "code",
   "execution_count": 7,
   "metadata": {},
   "outputs": [
    {
     "name": "stdout",
     "output_type": "stream",
     "text": [
      "entering context\n",
      "insides\n",
      "leaving context\n",
      "with no error\n"
     ]
    }
   ],
   "source": [
    "with context_illustration():\n",
    "    print(\"insides\")"
   ]
  },
  {
   "cell_type": "code",
   "execution_count": 8,
   "metadata": {},
   "outputs": [
    {
     "name": "stdout",
     "output_type": "stream",
     "text": [
      "entering context\n",
      "leaving context\n",
      "with an error (something gone wrong insides)\n"
     ]
    },
    {
     "ename": "Exception",
     "evalue": "something gone wrong insides",
     "output_type": "error",
     "traceback": [
      "\u001b[0;31m---------------------------------------------------------------------------\u001b[0m",
      "\u001b[0;31mException\u001b[0m                                 Traceback (most recent call last)",
      "\u001b[0;32m<ipython-input-8-d1660b229284>\u001b[0m in \u001b[0;36m<module>\u001b[0;34m()\u001b[0m\n\u001b[1;32m      1\u001b[0m \u001b[0;32mwith\u001b[0m \u001b[0mcontext_illustration\u001b[0m\u001b[0;34m(\u001b[0m\u001b[0;34m)\u001b[0m\u001b[0;34m:\u001b[0m\u001b[0;34m\u001b[0m\u001b[0;34m\u001b[0m\u001b[0m\n\u001b[0;32m----> 2\u001b[0;31m     \u001b[0;32mraise\u001b[0m \u001b[0mException\u001b[0m\u001b[0;34m(\u001b[0m\u001b[0;34m\"something gone wrong insides\"\u001b[0m\u001b[0;34m)\u001b[0m\u001b[0;34m\u001b[0m\u001b[0;34m\u001b[0m\u001b[0m\n\u001b[0m",
      "\u001b[0;31mException\u001b[0m: something gone wrong insides"
     ]
    }
   ],
   "source": [
    "with context_illustration():\n",
    "    raise Exception(\"something gone wrong insides\")"
   ]
  }
 ],
 "metadata": {
  "kernelspec": {
   "display_name": "Python 3",
   "language": "python",
   "name": "python3"
  },
  "language_info": {
   "codemirror_mode": {
    "name": "ipython",
    "version": 3
   },
   "file_extension": ".py",
   "mimetype": "text/x-python",
   "name": "python",
   "nbconvert_exporter": "python",
   "pygments_lexer": "ipython3",
   "version": "3.6.8"
  }
 },
 "nbformat": 4,
 "nbformat_minor": 2
}
