{
 "cells": [
  {
   "cell_type": "markdown",
   "metadata": {},
   "source": [
    "## List Comprehension"
   ]
  },
  {
   "cell_type": "code",
   "execution_count": 3,
   "metadata": {},
   "outputs": [],
   "source": [
    "'''字节码输出'''\n",
    "import dis\n",
    "def f1():\n",
    "    l = []\n",
    "    for i in range(100):\n",
    "        l.append(i)\n",
    "    return l\n",
    "\n",
    "def f2():\n",
    "    return [i for i in range(100)]"
   ]
  },
  {
   "cell_type": "code",
   "execution_count": 5,
   "metadata": {},
   "outputs": [
    {
     "name": "stdout",
     "output_type": "stream",
     "text": [
      "  3           0 BUILD_LIST               0\n",
      "              2 STORE_FAST               0 (l)\n",
      "\n",
      "  4           4 SETUP_LOOP              26 (to 32)\n",
      "              6 LOAD_GLOBAL              0 (range)\n",
      "              8 LOAD_CONST               1 (100)\n",
      "             10 CALL_FUNCTION            1\n",
      "             12 GET_ITER\n",
      "        >>   14 FOR_ITER                14 (to 30)\n",
      "             16 STORE_FAST               1 (i)\n",
      "\n",
      "  5          18 LOAD_FAST                0 (l)\n",
      "             20 LOAD_ATTR                1 (append)\n",
      "             22 LOAD_FAST                1 (i)\n",
      "             24 CALL_FUNCTION            1\n",
      "             26 POP_TOP\n",
      "             28 JUMP_ABSOLUTE           14\n",
      "        >>   30 POP_BLOCK\n",
      "\n",
      "  6     >>   32 LOAD_FAST                0 (l)\n",
      "             34 RETURN_VALUE\n",
      "********************\n",
      "  9           0 LOAD_CONST               1 (<code object <listcomp> at 0x106803300, file \"<ipython-input-3-5796d278b0ec>\", line 9>)\n",
      "              2 LOAD_CONST               2 ('f2.<locals>.<listcomp>')\n",
      "              4 MAKE_FUNCTION            0\n",
      "              6 LOAD_GLOBAL              0 (range)\n",
      "              8 LOAD_CONST               3 (100)\n",
      "             10 CALL_FUNCTION            1\n",
      "             12 GET_ITER\n",
      "             14 CALL_FUNCTION            1\n",
      "             16 RETURN_VALUE\n"
     ]
    }
   ],
   "source": [
    "dis.dis(f1)\n",
    "print(\"*\" * 20)\n",
    "dis.dis(f2)"
   ]
  },
  {
   "cell_type": "markdown",
   "metadata": {},
   "source": [
    "## Iterators"
   ]
  },
  {
   "cell_type": "code",
   "execution_count": 69,
   "metadata": {},
   "outputs": [
    {
     "name": "stdout",
     "output_type": "stream",
     "text": [
      "a\n"
     ]
    }
   ],
   "source": [
    "i = iter(\"abc\")\n",
    "print(next(i))"
   ]
  },
  {
   "cell_type": "code",
   "execution_count": 73,
   "metadata": {},
   "outputs": [
    {
     "name": "stdout",
     "output_type": "stream",
     "text": [
      "4\n",
      "3\n",
      "2\n",
      "1\n",
      "0\n"
     ]
    }
   ],
   "source": [
    "'''简单的倒计时器'''\n",
    "class CountDown:\n",
    "    def __init__(self, step):\n",
    "        self.step = step\n",
    "    def __next__(self):\n",
    "        if self.step <= 0:\n",
    "            raise StopIteration\n",
    "        self.step -= 1\n",
    "        return self.step\n",
    "    def __iter__(self):\n",
    "        return self\n",
    "\n",
    "for i in CountDown(5):\n",
    "    print(i)"
   ]
  },
  {
   "cell_type": "markdown",
   "metadata": {},
   "source": [
    "## Yield Statement"
   ]
  },
  {
   "cell_type": "code",
   "execution_count": 77,
   "metadata": {},
   "outputs": [],
   "source": [
    "def fibonacci():\n",
    "    a, b = 0, 1\n",
    "    while True:\n",
    "        yield b\n",
    "        a, b = b, a + b"
   ]
  },
  {
   "cell_type": "code",
   "execution_count": 88,
   "metadata": {},
   "outputs": [
    {
     "data": {
      "text/plain": [
       "generator"
      ]
     },
     "execution_count": 88,
     "metadata": {},
     "output_type": "execute_result"
    }
   ],
   "source": [
    "fib = fibonacci()\n",
    "type(fib)"
   ]
  },
  {
   "cell_type": "code",
   "execution_count": 89,
   "metadata": {},
   "outputs": [
    {
     "data": {
      "text/plain": [
       "[1, 1, 2, 3, 5, 8, 13, 21, 34, 55]"
      ]
     },
     "execution_count": 89,
     "metadata": {},
     "output_type": "execute_result"
    }
   ],
   "source": [
    "[next(fib) for _ in range(10)]"
   ]
  },
  {
   "cell_type": "code",
   "execution_count": 97,
   "metadata": {},
   "outputs": [],
   "source": [
    "def psychologist():\n",
    "    print(\"Please tell me your problems\")\n",
    "    while True:\n",
    "        answer = yield\n",
    "        if answer:\n",
    "            if answer.endswith(\"?\"):\n",
    "                print(\"Don't ask yourself two much questions\")\n",
    "            elif 'good' in answer:\n",
    "                print(\"Ahh that's good, go on\")\n",
    "            elif 'bad' in answer:\n",
    "                print(\"Don't be so negative\")"
   ]
  },
  {
   "cell_type": "code",
   "execution_count": 98,
   "metadata": {},
   "outputs": [
    {
     "name": "stdout",
     "output_type": "stream",
     "text": [
      "Please tell me your problems\n"
     ]
    }
   ],
   "source": [
    "free = psychologist()\n",
    "next(free)"
   ]
  },
  {
   "cell_type": "code",
   "execution_count": 99,
   "metadata": {},
   "outputs": [
    {
     "name": "stdout",
     "output_type": "stream",
     "text": [
      "Don't be so negative\n"
     ]
    }
   ],
   "source": [
    "free.send(\"I feel bad\")"
   ]
  },
  {
   "cell_type": "code",
   "execution_count": 100,
   "metadata": {},
   "outputs": [
    {
     "name": "stdout",
     "output_type": "stream",
     "text": [
      "Don't ask yourself two much questions\n"
     ]
    }
   ],
   "source": [
    "free.send(\"Why I shouldn't?\")"
   ]
  },
  {
   "cell_type": "code",
   "execution_count": 101,
   "metadata": {},
   "outputs": [
    {
     "name": "stdout",
     "output_type": "stream",
     "text": [
      "Ahh that's good, go on\n"
     ]
    }
   ],
   "source": [
    "free.send(\"i feel good now\")"
   ]
  }
 ],
 "metadata": {
  "kernelspec": {
   "display_name": "Python 3",
   "language": "python",
   "name": "python3"
  },
  "language_info": {
   "codemirror_mode": {
    "name": "ipython",
    "version": 3
   },
   "file_extension": ".py",
   "mimetype": "text/x-python",
   "name": "python",
   "nbconvert_exporter": "python",
   "pygments_lexer": "ipython3",
   "version": "3.6.8"
  }
 },
 "nbformat": 4,
 "nbformat_minor": 2
}
