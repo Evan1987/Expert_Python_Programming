{
 "cells": [
  {
   "cell_type": "markdown",
   "metadata": {},
   "source": [
    "## Parametrizing decorators"
   ]
  },
  {
   "cell_type": "code",
   "execution_count": 1,
   "metadata": {},
   "outputs": [],
   "source": [
    "def repeat(number=3):\n",
    "    def actual_decorator(func):\n",
    "        def wrapper(*args, **kwargs):\n",
    "            result = None\n",
    "            for _ in range(number):\n",
    "                result = func(*args, **kwargs)\n",
    "            return result\n",
    "        return wrapper\n",
    "    return actual_decorator"
   ]
  },
  {
   "cell_type": "code",
   "execution_count": 5,
   "metadata": {},
   "outputs": [],
   "source": [
    "def repeat_class(number=3):\n",
    "    class wrapper:\n",
    "        def __init__(self, func):\n",
    "            self.func = func\n",
    "        def __call__(self, *args, **kwargs):\n",
    "            result = None\n",
    "            for _ in range(number):\n",
    "                result = self.func(*args, **kwargs)\n",
    "            return result\n",
    "    return wrapper"
   ]
  },
  {
   "cell_type": "code",
   "execution_count": 12,
   "metadata": {},
   "outputs": [],
   "source": [
    "@repeat(number=2)\n",
    "def boo():\n",
    "    print(\"boo\")"
   ]
  },
  {
   "cell_type": "code",
   "execution_count": 13,
   "metadata": {},
   "outputs": [
    {
     "name": "stdout",
     "output_type": "stream",
     "text": [
      "boo\n",
      "boo\n"
     ]
    }
   ],
   "source": [
    "boo()"
   ]
  },
  {
   "cell_type": "code",
   "execution_count": 8,
   "metadata": {},
   "outputs": [],
   "source": [
    "@repeat_class(number=5)\n",
    "def foo():\n",
    "    print(\"foo\")"
   ]
  },
  {
   "cell_type": "code",
   "execution_count": 9,
   "metadata": {},
   "outputs": [
    {
     "name": "stdout",
     "output_type": "stream",
     "text": [
      "foo\n",
      "foo\n",
      "foo\n",
      "foo\n",
      "foo\n"
     ]
    }
   ],
   "source": [
    "foo()"
   ]
  },
  {
   "cell_type": "markdown",
   "metadata": {},
   "source": [
    "## Introspection preserving decorators"
   ]
  },
  {
   "cell_type": "code",
   "execution_count": 17,
   "metadata": {},
   "outputs": [],
   "source": [
    "def not_preserving_decorator(func):\n",
    "    def wrapper(*args, **kwargs):\n",
    "        \"\"\"Internal wrapped function documentation\"\"\"\n",
    "        return function(*args, **kwargs)\n",
    "    return wrapper"
   ]
  },
  {
   "cell_type": "code",
   "execution_count": 18,
   "metadata": {},
   "outputs": [],
   "source": [
    "@not_preserving_decorator\n",
    "def function_with_important_docstring():\n",
    "    \"\"\"This is important docstring we do not want to lose.\"\"\"\n",
    "    return 0 "
   ]
  },
  {
   "cell_type": "code",
   "execution_count": 19,
   "metadata": {},
   "outputs": [
    {
     "name": "stdout",
     "output_type": "stream",
     "text": [
      "wrapper\n",
      "Internal wrapped function documentation\n"
     ]
    }
   ],
   "source": [
    "print(function_with_important_docstring.__name__)\n",
    "print(function_with_important_docstring.__doc__)"
   ]
  },
  {
   "cell_type": "code",
   "execution_count": 14,
   "metadata": {},
   "outputs": [],
   "source": [
    "from functools import wraps\n",
    "def preserving_decorator(func):\n",
    "    @wraps(func)  # save func's __name__ and __doc__ to wrapper\n",
    "    def wrapper(*args, **kwargs):\n",
    "        \"\"\"Internal wrapped function documentation\"\"\"\n",
    "        return function(*args, **kwargs)\n",
    "    return wrapper"
   ]
  },
  {
   "cell_type": "code",
   "execution_count": 15,
   "metadata": {},
   "outputs": [],
   "source": [
    "@preserving_decorator\n",
    "def function_with_important_docstring():\n",
    "    \"\"\"This is important docstring we do not want to lose.\"\"\"\n",
    "    return 0    "
   ]
  },
  {
   "cell_type": "code",
   "execution_count": 16,
   "metadata": {},
   "outputs": [
    {
     "name": "stdout",
     "output_type": "stream",
     "text": [
      "function_with_important_docstring\n",
      "This is important docstring we do not want to lose.\n"
     ]
    }
   ],
   "source": [
    "print(function_with_important_docstring.__name__)\n",
    "print(function_with_important_docstring.__doc__)"
   ]
  }
 ],
 "metadata": {
  "kernelspec": {
   "display_name": "Python 3",
   "language": "python",
   "name": "python3"
  },
  "language_info": {
   "codemirror_mode": {
    "name": "ipython",
    "version": 3
   },
   "file_extension": ".py",
   "mimetype": "text/x-python",
   "name": "python",
   "nbconvert_exporter": "python",
   "pygments_lexer": "ipython3",
   "version": "3.6.8"
  }
 },
 "nbformat": 4,
 "nbformat_minor": 2
}
