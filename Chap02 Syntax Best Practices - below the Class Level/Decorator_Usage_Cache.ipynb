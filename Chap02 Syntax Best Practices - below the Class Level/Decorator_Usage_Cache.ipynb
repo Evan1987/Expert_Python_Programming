{
 "cells": [
  {
   "cell_type": "code",
   "execution_count": null,
   "metadata": {},
   "outputs": [],
   "source": [
    "\"\"\"\n",
    "caching expensive functions \n",
    "to keep the output together with arguments which will be called many times\n",
    "\"\"\""
   ]
  },
  {
   "cell_type": "code",
   "execution_count": 1,
   "metadata": {},
   "outputs": [],
   "source": [
    "import time\n",
    "import hashlib\n",
    "import pickle\n",
    "\n",
    "cache = {}"
   ]
  },
  {
   "cell_type": "code",
   "execution_count": 2,
   "metadata": {},
   "outputs": [],
   "source": [
    "def is_obsolete(entry: dict, duration: int) -> bool:\n",
    "    return time.time() - entry[\"time\"] > duration\n",
    "\n",
    "def compute_key(function, args, kw):\n",
    "    key = pickle.dumps((function.__name__, args, kw))\n",
    "    return hashlib.sha1(key).hexdigest()\n",
    "\n",
    "def memorize(duration=10):\n",
    "    def _memorize(function):\n",
    "        def __memorize(*args, **kw):\n",
    "            key = compute_key(function, args, kw)\n",
    "            \n",
    "            # do we have it already?\n",
    "            if key in cache and not is_obsolete(cache[key], duration):\n",
    "                print(\"we got a winner\")\n",
    "                return cache[key][\"value\"]\n",
    "            # computing\n",
    "            result = function(*args, **kw)\n",
    "            # storing the result\n",
    "            cache[key] = {\"value\": result, \"time\": time.time()}\n",
    "            return result\n",
    "        return __memorize\n",
    "    return _memorize"
   ]
  },
  {
   "cell_type": "code",
   "execution_count": 10,
   "metadata": {},
   "outputs": [],
   "source": [
    "@memorize(duration=2)\n",
    "def complex_stuff(a, b):\n",
    "    # if your computer gets too hot on this calculation consider stopping it\n",
    "    return a + b"
   ]
  },
  {
   "cell_type": "code",
   "execution_count": 11,
   "metadata": {},
   "outputs": [
    {
     "name": "stdout",
     "output_type": "stream",
     "text": [
      "4\n",
      "**********\n",
      "we got a winner\n",
      "4\n",
      "**********\n",
      "4\n"
     ]
    }
   ],
   "source": [
    "print(complex_stuff(2, 2))\n",
    "time.sleep(1)\n",
    "print(\"*\" * 10)\n",
    "print(complex_stuff(2, 2))\n",
    "time.sleep(2)\n",
    "print(\"*\" * 10)\n",
    "print(complex_stuff(2, 2))"
   ]
  },
  {
   "cell_type": "code",
   "execution_count": 12,
   "metadata": {},
   "outputs": [
    {
     "name": "stdout",
     "output_type": "stream",
     "text": [
      "{'4b9da6a2016f2e9ef9d99dc40012ddc16e2bc26f': {'value': 4, 'time': 1557153454.448276}}\n"
     ]
    }
   ],
   "source": [
    "print(cache)"
   ]
  }
 ],
 "metadata": {
  "kernelspec": {
   "display_name": "Python 3",
   "language": "python",
   "name": "python3"
  },
  "language_info": {
   "codemirror_mode": {
    "name": "ipython",
    "version": 3
   },
   "file_extension": ".py",
   "mimetype": "text/x-python",
   "name": "python",
   "nbconvert_exporter": "python",
   "pygments_lexer": "ipython3",
   "version": "3.6.8"
  }
 },
 "nbformat": 4,
 "nbformat_minor": 2
}
