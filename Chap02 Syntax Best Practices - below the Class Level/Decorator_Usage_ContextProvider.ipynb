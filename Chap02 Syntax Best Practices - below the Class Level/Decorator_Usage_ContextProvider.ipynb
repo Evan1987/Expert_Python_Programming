{
 "cells": [
  {
   "cell_type": "code",
   "execution_count": 2,
   "metadata": {},
   "outputs": [],
   "source": [
    "from threading import RLock\n",
    "lock = RLock()"
   ]
  },
  {
   "cell_type": "code",
   "execution_count": 3,
   "metadata": {},
   "outputs": [],
   "source": [
    "def synchronized(function):\n",
    "    def _synchronized(*args, **kwargs):\n",
    "        lock.acquire()\n",
    "        try:\n",
    "            return function(*args, **kwargs)\n",
    "        finally:\n",
    "            lock.release()\n",
    "    return _synchronized"
   ]
  },
  {
   "cell_type": "code",
   "execution_count": 6,
   "metadata": {},
   "outputs": [],
   "source": [
    "@synchronized\n",
    "def thread_safe():  # make sure it locks the resources\n",
    "    pass"
   ]
  }
 ],
 "metadata": {
  "kernelspec": {
   "display_name": "Python 3",
   "language": "python",
   "name": "python3"
  },
  "language_info": {
   "codemirror_mode": {
    "name": "ipython",
    "version": 3
   },
   "file_extension": ".py",
   "mimetype": "text/x-python",
   "name": "python",
   "nbconvert_exporter": "python",
   "pygments_lexer": "ipython3",
   "version": "3.6.8"
  }
 },
 "nbformat": 4,
 "nbformat_minor": 2
}
